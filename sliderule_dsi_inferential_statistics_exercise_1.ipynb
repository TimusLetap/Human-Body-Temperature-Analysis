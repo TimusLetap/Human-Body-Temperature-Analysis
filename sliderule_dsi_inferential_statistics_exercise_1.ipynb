{
 "cells": [
  {
   "cell_type": "markdown",
   "metadata": {},
   "source": [
    "# What is the True Normal Human Body Temperature? \n",
    "\n",
    "#### Background\n",
    "\n",
    "The mean normal body temperature was held to be 37$^{\\circ}$C or 98.6$^{\\circ}$F for more than 120 years since it was first conceptualized and reported by Carl Wunderlich in a famous 1868 book. But, is this value statistically correct?"
   ]
  },
  {
   "cell_type": "markdown",
   "metadata": {},
   "source": [
    "<h3>Exercises</h3>\n",
    "\n",
    "<p>In this exercise, you will analyze a dataset of human body temperatures and employ the concepts of hypothesis testing, confidence intervals, and statistical significance.</p>\n",
    "\n",
    "<p>Answer the following questions <b>in this notebook below and submit to your Github account</b>.</p> \n",
    "\n",
    "<ol>\n",
    "<li>  Is the distribution of body temperatures normal? \n",
    "    <ul>\n",
    "    <li> Although this is not a requirement for CLT to hold (read CLT carefully), it gives us some peace of mind that the population may also be normally distributed if we assume that this sample is representative of the population.\n",
    "    </ul>\n",
    "<li>  Is the sample size large? Are the observations independent?\n",
    "    <ul>\n",
    "    <li> Remember that this is a condition for the CLT, and hence the statistical tests we are using, to apply.\n",
    "    </ul>\n",
    "<li>  Is the true population mean really 98.6 degrees F?\n",
    "    <ul>\n",
    "    <li> Would you use a one-sample or two-sample test? Why?\n",
    "    <li> In this situation, is it appropriate to use the $t$ or $z$ statistic? \n",
    "    <li> Now try using the other test. How is the result be different? Why?\n",
    "    </ul>\n",
    "<li>  At what temperature should we consider someone's temperature to be \"abnormal\"?\n",
    "    <ul>\n",
    "    <li> Start by computing the margin of error and confidence interval.\n",
    "    </ul>\n",
    "<li>  Is there a significant difference between males and females in normal temperature?\n",
    "    <ul>\n",
    "    <li> What test did you use and why?\n",
    "    <li> Write a story with your conclusion in the context of the original problem.\n",
    "    </ul>\n",
    "</ol>\n",
    "\n",
    "You can include written notes in notebook cells using Markdown: \n",
    "   - In the control panel at the top, choose Cell > Cell Type > Markdown\n",
    "   - Markdown syntax: http://nestacms.com/docs/creating-content/markdown-cheat-sheet\n",
    "\n",
    "#### Resources\n",
    "\n",
    "+ Information and data sources: http://www.amstat.org/publications/jse/datasets/normtemp.txt, http://www.amstat.org/publications/jse/jse_data_archive.htm\n",
    "+ Markdown syntax: http://nestacms.com/docs/creating-content/markdown-cheat-sheet\n"
   ]
  },
  {
   "cell_type": "code",
   "execution_count": 1,
   "metadata": {},
   "outputs": [
    {
     "name": "stderr",
     "output_type": "stream",
     "text": [
      "C:\\Users\\TimusLetap\\Anaconda3\\lib\\site-packages\\statsmodels\\compat\\pandas.py:56: FutureWarning: The pandas.core.datetools module is deprecated and will be removed in a future version. Please use the pandas.tseries module instead.\n",
      "  from pandas.core import datetools\n"
     ]
    }
   ],
   "source": [
    "import pandas as pd\n",
    "import numpy as np\n",
    "import matplotlib.pyplot as plt\n",
    "import scipy.stats as stats\n",
    "import pylab as pl\n",
    "import seaborn as sns\n",
    "import math\n",
    "import statsmodels.api as sm\n",
    "sns.set()\n",
    "\n",
    "\n",
    "df = pd.read_csv('human_body_temperature.csv')"
   ]
  },
  {
   "cell_type": "markdown",
   "metadata": {},
   "source": [
    "### Inspect Data for any obvious observations"
   ]
  },
  {
   "cell_type": "code",
   "execution_count": 2,
   "metadata": {},
   "outputs": [
    {
     "data": {
      "text/html": [
       "<div>\n",
       "<style>\n",
       "    .dataframe thead tr:only-child th {\n",
       "        text-align: right;\n",
       "    }\n",
       "\n",
       "    .dataframe thead th {\n",
       "        text-align: left;\n",
       "    }\n",
       "\n",
       "    .dataframe tbody tr th {\n",
       "        vertical-align: top;\n",
       "    }\n",
       "</style>\n",
       "<table border=\"1\" class=\"dataframe\">\n",
       "  <thead>\n",
       "    <tr style=\"text-align: right;\">\n",
       "      <th></th>\n",
       "      <th>temperature</th>\n",
       "      <th>gender</th>\n",
       "      <th>heart_rate</th>\n",
       "    </tr>\n",
       "  </thead>\n",
       "  <tbody>\n",
       "    <tr>\n",
       "      <th>0</th>\n",
       "      <td>99.3</td>\n",
       "      <td>F</td>\n",
       "      <td>68.0</td>\n",
       "    </tr>\n",
       "    <tr>\n",
       "      <th>1</th>\n",
       "      <td>98.4</td>\n",
       "      <td>F</td>\n",
       "      <td>81.0</td>\n",
       "    </tr>\n",
       "    <tr>\n",
       "      <th>2</th>\n",
       "      <td>97.8</td>\n",
       "      <td>M</td>\n",
       "      <td>73.0</td>\n",
       "    </tr>\n",
       "    <tr>\n",
       "      <th>3</th>\n",
       "      <td>99.2</td>\n",
       "      <td>F</td>\n",
       "      <td>66.0</td>\n",
       "    </tr>\n",
       "    <tr>\n",
       "      <th>4</th>\n",
       "      <td>98.0</td>\n",
       "      <td>F</td>\n",
       "      <td>73.0</td>\n",
       "    </tr>\n",
       "  </tbody>\n",
       "</table>\n",
       "</div>"
      ],
      "text/plain": [
       "   temperature gender  heart_rate\n",
       "0         99.3      F        68.0\n",
       "1         98.4      F        81.0\n",
       "2         97.8      M        73.0\n",
       "3         99.2      F        66.0\n",
       "4         98.0      F        73.0"
      ]
     },
     "execution_count": 2,
     "metadata": {},
     "output_type": "execute_result"
    }
   ],
   "source": [
    "df.head()"
   ]
  },
  {
   "cell_type": "code",
   "execution_count": 3,
   "metadata": {},
   "outputs": [
    {
     "data": {
      "text/html": [
       "<div>\n",
       "<style>\n",
       "    .dataframe thead tr:only-child th {\n",
       "        text-align: right;\n",
       "    }\n",
       "\n",
       "    .dataframe thead th {\n",
       "        text-align: left;\n",
       "    }\n",
       "\n",
       "    .dataframe tbody tr th {\n",
       "        vertical-align: top;\n",
       "    }\n",
       "</style>\n",
       "<table border=\"1\" class=\"dataframe\">\n",
       "  <thead>\n",
       "    <tr style=\"text-align: right;\">\n",
       "      <th></th>\n",
       "      <th>temperature</th>\n",
       "      <th>heart_rate</th>\n",
       "    </tr>\n",
       "  </thead>\n",
       "  <tbody>\n",
       "    <tr>\n",
       "      <th>count</th>\n",
       "      <td>130.000000</td>\n",
       "      <td>130.000000</td>\n",
       "    </tr>\n",
       "    <tr>\n",
       "      <th>mean</th>\n",
       "      <td>98.249231</td>\n",
       "      <td>73.761538</td>\n",
       "    </tr>\n",
       "    <tr>\n",
       "      <th>std</th>\n",
       "      <td>0.733183</td>\n",
       "      <td>7.062077</td>\n",
       "    </tr>\n",
       "    <tr>\n",
       "      <th>min</th>\n",
       "      <td>96.300000</td>\n",
       "      <td>57.000000</td>\n",
       "    </tr>\n",
       "    <tr>\n",
       "      <th>25%</th>\n",
       "      <td>97.800000</td>\n",
       "      <td>69.000000</td>\n",
       "    </tr>\n",
       "    <tr>\n",
       "      <th>50%</th>\n",
       "      <td>98.300000</td>\n",
       "      <td>74.000000</td>\n",
       "    </tr>\n",
       "    <tr>\n",
       "      <th>75%</th>\n",
       "      <td>98.700000</td>\n",
       "      <td>79.000000</td>\n",
       "    </tr>\n",
       "    <tr>\n",
       "      <th>max</th>\n",
       "      <td>100.800000</td>\n",
       "      <td>89.000000</td>\n",
       "    </tr>\n",
       "  </tbody>\n",
       "</table>\n",
       "</div>"
      ],
      "text/plain": [
       "       temperature  heart_rate\n",
       "count   130.000000  130.000000\n",
       "mean     98.249231   73.761538\n",
       "std       0.733183    7.062077\n",
       "min      96.300000   57.000000\n",
       "25%      97.800000   69.000000\n",
       "50%      98.300000   74.000000\n",
       "75%      98.700000   79.000000\n",
       "max     100.800000   89.000000"
      ]
     },
     "execution_count": 3,
     "metadata": {},
     "output_type": "execute_result"
    }
   ],
   "source": [
    "df.describe()"
   ]
  },
  {
   "cell_type": "code",
   "execution_count": 4,
   "metadata": {},
   "outputs": [
    {
     "data": {
      "text/plain": [
       "count     130\n",
       "unique      2\n",
       "top         F\n",
       "freq       65\n",
       "Name: gender, dtype: object"
      ]
     },
     "execution_count": 4,
     "metadata": {},
     "output_type": "execute_result"
    }
   ],
   "source": [
    "df['gender'].describe()"
   ]
  },
  {
   "cell_type": "code",
   "execution_count": 5,
   "metadata": {},
   "outputs": [
    {
     "data": {
      "text/html": [
       "<div>\n",
       "<style>\n",
       "    .dataframe thead tr:only-child th {\n",
       "        text-align: right;\n",
       "    }\n",
       "\n",
       "    .dataframe thead th {\n",
       "        text-align: left;\n",
       "    }\n",
       "\n",
       "    .dataframe tbody tr th {\n",
       "        vertical-align: top;\n",
       "    }\n",
       "</style>\n",
       "<table border=\"1\" class=\"dataframe\">\n",
       "  <thead>\n",
       "    <tr style=\"text-align: right;\">\n",
       "      <th></th>\n",
       "      <th>temperature</th>\n",
       "      <th>gender</th>\n",
       "      <th>heart_rate</th>\n",
       "    </tr>\n",
       "  </thead>\n",
       "  <tbody>\n",
       "    <tr>\n",
       "      <th>7</th>\n",
       "      <td>98.8</td>\n",
       "      <td>M</td>\n",
       "      <td>78.0</td>\n",
       "    </tr>\n",
       "    <tr>\n",
       "      <th>54</th>\n",
       "      <td>98.2</td>\n",
       "      <td>F</td>\n",
       "      <td>73.0</td>\n",
       "    </tr>\n",
       "    <tr>\n",
       "      <th>72</th>\n",
       "      <td>98.0</td>\n",
       "      <td>M</td>\n",
       "      <td>78.0</td>\n",
       "    </tr>\n",
       "    <tr>\n",
       "      <th>75</th>\n",
       "      <td>98.8</td>\n",
       "      <td>M</td>\n",
       "      <td>78.0</td>\n",
       "    </tr>\n",
       "    <tr>\n",
       "      <th>87</th>\n",
       "      <td>98.0</td>\n",
       "      <td>M</td>\n",
       "      <td>78.0</td>\n",
       "    </tr>\n",
       "    <tr>\n",
       "      <th>127</th>\n",
       "      <td>98.2</td>\n",
       "      <td>F</td>\n",
       "      <td>73.0</td>\n",
       "    </tr>\n",
       "  </tbody>\n",
       "</table>\n",
       "</div>"
      ],
      "text/plain": [
       "     temperature gender  heart_rate\n",
       "7           98.8      M        78.0\n",
       "54          98.2      F        73.0\n",
       "72          98.0      M        78.0\n",
       "75          98.8      M        78.0\n",
       "87          98.0      M        78.0\n",
       "127         98.2      F        73.0"
      ]
     },
     "execution_count": 5,
     "metadata": {},
     "output_type": "execute_result"
    }
   ],
   "source": [
    "# Inspect duplicate observations:\n",
    "df[df.duplicated(keep=False)]"
   ]
  },
  {
   "cell_type": "markdown",
   "metadata": {},
   "source": [
    "## Is the sample size large? Are the observations independent?\n",
    "* Remember that this is a condition for the CLT, and hence the statistical tests we are using, to apply.\n",
    "    * The mean of the observed body temperature would provide for a normal curve as we can see in te distribution plot allowing us to ascertain that the observations are indeed independent \n",
    "    * Sample size is 130 with 65 per each gender\n",
    "\n",
    "The sample size, 130, for the body temperature dataset is greater than 30 which is considered large.The observations are independent, as they are not influenced by and reveal no information about any other observation. Each value for temperature represents a distinct measure of such."
   ]
  },
  {
   "cell_type": "code",
   "execution_count": 25,
   "metadata": {},
   "outputs": [
    {
     "name": "stdout",
     "output_type": "stream",
     "text": [
      "Sample Size: 130\n"
     ]
    }
   ],
   "source": [
    "# Print the body temperature sample size:\n",
    "print('Sample Size:', n)"
   ]
  },
  {
   "cell_type": "code",
   "execution_count": 6,
   "metadata": {
    "collapsed": true
   },
   "outputs": [],
   "source": [
    "temperature = df['temperature']"
   ]
  },
  {
   "cell_type": "code",
   "execution_count": 7,
   "metadata": {},
   "outputs": [
    {
     "name": "stdout",
     "output_type": "stream",
     "text": [
      "98.24923076923078\n"
     ]
    },
    {
     "data": {
      "text/plain": [
       "-0.35076923076921673"
      ]
     },
     "execution_count": 7,
     "metadata": {},
     "output_type": "execute_result"
    }
   ],
   "source": [
    "# Verify sample populaiton mean\n",
    "\n",
    "population_temperature_mean= temperature.mean()\n",
    "print (population_temperature_mean)\n",
    "\n",
    "population_temperature_mean - 98.6"
   ]
  },
  {
   "cell_type": "markdown",
   "metadata": {},
   "source": [
    "*  We can see that the difference of means between our random sample and original sample is approx 0.06 which is not significant enough to not consider our sample as inaccurate in terms of representing the population"
   ]
  },
  {
   "cell_type": "code",
   "execution_count": 26,
   "metadata": {},
   "outputs": [
    {
     "data": {
      "image/png": "[encoded data removed]",
      "text/plain": [
       "<matplotlib.figure.Figure at 0x23a75fcd400>"
      ]
     },
     "metadata": {},
     "output_type": "display_data"
    }
   ],
   "source": [
    "_ = sns.swarmplot(x= temperature, data=df)\n",
    "_= plt.xlabel('Temperature')\n",
    "plt.show()"
   ]
  },
  {
   "cell_type": "markdown",
   "metadata": {},
   "source": [
    "* Observations show a good density between 98 and 99 degrees\n",
    "* There are some observable outliers which should be noted"
   ]
  },
  {
   "cell_type": "markdown",
   "metadata": {},
   "source": [
    "* The margin of error being low tells us that our "
   ]
  },
  {
   "cell_type": "code",
   "execution_count": 9,
   "metadata": {},
   "outputs": [
    {
     "data": {
      "image/png": "[encoded data removed]",
      "text/plain": [
       "<matplotlib.figure.Figure at 0x23a753054e0>"
      ]
     },
     "metadata": {},
     "output_type": "display_data"
    }
   ],
   "source": [
    "_ = sns.swarmplot(x= temperature, y='gender', data=df)\n",
    "_= plt.xlabel('Temperature')\n",
    "_= plt.ylabel('Gender')\n",
    "plt.show()"
   ]
  },
  {
   "cell_type": "markdown",
   "metadata": {},
   "source": [
    "* Investigaitng the outliers we can see that there is a difference between gender\n",
    "* Observing the temperature by gender we can see that males have a slightly lower temperature than the females in the sample \n",
    "* The very high temperature observations seem to be from the females and the low outliers are generated by both male and females observations "
   ]
  },
  {
   "cell_type": "code",
   "execution_count": 10,
   "metadata": {},
   "outputs": [
    {
     "data": {
      "image/png": "[encoded data removed]",
      "text/plain": [
       "<matplotlib.figure.Figure at 0x23a7565ce48>"
      ]
     },
     "metadata": {},
     "output_type": "display_data"
    }
   ],
   "source": [
    "# Linear regression observation against heart rate\n",
    "\n",
    "_= sns.lmplot(x= 'temperature', y='heart_rate', data=df)\n",
    "_= plt.xlabel('Temperature')\n",
    "_= plt.ylabel('Heart Rate')\n",
    "plt.show()"
   ]
  },
  {
   "cell_type": "markdown",
   "metadata": {},
   "source": [
    "*  The correlation of temperature to heart rate shows us that there is no uniformity of heart rate and temperature\n",
    "*  Using the generated correlation line to assign an observation we can see that as heart rate increases temperature rises\n",
    "*  We can also observe that the heart rate is not an ideal indicator of temperature"
   ]
  },
  {
   "cell_type": "code",
   "execution_count": 11,
   "metadata": {},
   "outputs": [
    {
     "data": {
      "image/png": "[encoded data removed]",
      "text/plain": [
       "<matplotlib.figure.Figure at 0x23a74de5c88>"
      ]
     },
     "metadata": {},
     "output_type": "display_data"
    }
   ],
   "source": [
    "# Quantile plot\n",
    "_= stats.probplot(temperature, dist=\"norm\", plot=pl)\n",
    "_= plt.title('Observed Sample')\n",
    "plt.show()"
   ]
  },
  {
   "cell_type": "markdown",
   "metadata": {},
   "source": [
    "* From quantile plot we can see that both sample population and observed populaitons display the strong uniform distribution as they both primarily correlate with normal distribution line\n",
    "* Few outliers are observed beyond 100 but otherwise there is a nice uniform distribution which makes sense given that the temperatures of the samples are within a specific range overall"
   ]
  },
  {
   "cell_type": "code",
   "execution_count": 12,
   "metadata": {},
   "outputs": [
    {
     "data": {
      "image/png": "[encoded data removed]",
      "text/plain": [
       "<matplotlib.figure.Figure at 0x23a74e30860>"
      ]
     },
     "metadata": {},
     "output_type": "display_data"
    }
   ],
   "source": [
    "np.random.seed(42)\n",
    "\n",
    "point_estimates = []         \n",
    "\n",
    "for x in range(200):         \n",
    "    sample = np.random.choice(a= temperature, size=500)\n",
    "    point_estimates.append(sample.mean())\n",
    "    \n",
    "_= pd.DataFrame(point_estimates).plot(kind=\"density\") \n",
    "_= plt.xlabel('Temperature')\n",
    "plt.show()"
   ]
  },
  {
   "cell_type": "code",
   "execution_count": 13,
   "metadata": {
    "collapsed": true
   },
   "outputs": [],
   "source": [
    "n_data= len(temperature)\n",
    "n_bins= np.sqrt(n_data)\n",
    "n_bins= int(n_bins)"
   ]
  },
  {
   "cell_type": "code",
   "execution_count": 14,
   "metadata": {
    "scrolled": true
   },
   "outputs": [
    {
     "data": {
      "image/png": "[encoded data removed]",
      "text/plain": [
       "<matplotlib.figure.Figure at 0x23a75be3828>"
      ]
     },
     "metadata": {},
     "output_type": "display_data"
    }
   ],
   "source": [
    "_= plt.hist(temperature, bins= n_bins)\n",
    "_= plt.xlabel('Temperature')\n",
    "_= plt.ylabel('Count')\n",
    "plt.show()"
   ]
  },
  {
   "cell_type": "code",
   "execution_count": 15,
   "metadata": {
    "scrolled": false
   },
   "outputs": [
    {
     "data": {
      "image/png": "[encoded data removed]",
      "text/plain": [
       "<matplotlib.figure.Figure at 0x23a757234a8>"
      ]
     },
     "metadata": {},
     "output_type": "display_data"
    }
   ],
   "source": [
    "_= temperature.plot(kind='hist', title= 'Body Temperature Distribution')\n",
    "_= temperature.plot(kind= 'kde')\n",
    "_= plt.xlabel('Temperature')\n",
    "plt.show()      "
   ]
  },
  {
   "cell_type": "markdown",
   "metadata": {},
   "source": [
    "## Is the distribution of body temperatures normal?\n",
    "* Although this is not a requirement for CLT to hold (read CLT carefully), it gives us some peace of mind that the population may also be normally distributed if we assume that this sample is representative of the population.\n",
    "    * CLT would apply to this dataset as the mean temperatures of the population will follow a normal distribution as they are within a predictable range of temperatures\n",
    "    * This sample is indeed representative of the populaiton because the observation are independent\n",
    "    * We can see that the distribution of the temperatures of the population is quite normal and with very minor curve abiguities\n",
    "    * We can also see that the curve of the random sample also reflects approximately identical representations\n",
    "    * We can also observe the ideal normal curve over the kde curve and see that there is little to no difference meaning that the popultation reflects a normal distribution"
   ]
  },
  {
   "cell_type": "code",
   "execution_count": 27,
   "metadata": {},
   "outputs": [
    {
     "data": {
      "image/png": "[encoded data removed]",
      "text/plain": [
       "<matplotlib.figure.Figure at 0x23a75fb97f0>"
      ]
     },
     "metadata": {},
     "output_type": "display_data"
    }
   ],
   "source": [
    "# Create a figure with two plots:\n",
    "fig, (boxplot, histogram) = plt.subplots(2, sharex=True, gridspec_kw={\"height_ratios\": (.15, .85)})\n",
    " \n",
    "# Add boxplot for temperature:\n",
    "sns.boxplot(df.temperature, ax=boxplot)\n",
    "\n",
    "# Add histogram for temperature:\n",
    "sns.distplot(df.temperature, ax=histogram)\n",
    "\n",
    "# Label axes and add title:\n",
    "plt.xlabel('Temperature ($^\\circ$F)', fontsize=14)\n",
    "plt.ylabel('PDF')\n",
    "plt.title('Distribution of Body Temperatures', fontsize=18)\n",
    "\n",
    "# Remove x-axis label for the boxplot:\n",
    "boxplot.set(xlabel='')\n",
    "\n",
    "# Display the plots:\n",
    "plt.show()"
   ]
  },
  {
   "cell_type": "code",
   "execution_count": 20,
   "metadata": {
    "collapsed": true
   },
   "outputs": [],
   "source": [
    "# Define a function to compute the CDF:\n",
    "\n",
    "def cdf(data):\n",
    "    \"\"\"Compute CDF for a one-dimensional array of measurements.\"\"\"\n",
    "\n",
    "    # Number of data points:\n",
    "    n = len(data)\n",
    "\n",
    "    # x-data for the CDF:\n",
    "    x = np.sort(data)\n",
    "\n",
    "    # y-data for the CDF:\n",
    "    y = np.arange(1, n+1) / n\n",
    "\n",
    "    return x, y"
   ]
  },
  {
   "cell_type": "code",
   "execution_count": 21,
   "metadata": {},
   "outputs": [
    {
     "name": "stdout",
     "output_type": "stream",
     "text": [
      "n = 130 \n",
      "M = 98.24923076923078 \n",
      "s = 0.7303577789050377\n"
     ]
    }
   ],
   "source": [
    "# Compute and save variables for summarizing the empirical distribution -\n",
    "\n",
    "# Sample Size:\n",
    "n = len(df.temperature)\n",
    "\n",
    "# Sample Mean:\n",
    "M = np.mean(df.temperature)\n",
    "\n",
    "# Sample Standard Deviation:\n",
    "s = np.std(df.temperature)\n",
    "\n",
    "print('n =', n, '\\nM =', M, '\\ns =', s)"
   ]
  },
  {
   "cell_type": "code",
   "execution_count": 22,
   "metadata": {},
   "outputs": [
    {
     "data": {
      "text/plain": [
       "array([ 98.02111923,  98.49702999,  98.13536176, ...,  98.79844721,\n",
       "        97.6501198 ,  98.22401087])"
      ]
     },
     "execution_count": 22,
     "metadata": {},
     "output_type": "execute_result"
    }
   ],
   "source": [
    "# Seed the random number generator:\n",
    "np.random.seed(15)\n",
    "\n",
    "\n",
    "# Simulate a random sample with the same statistics and size of 10,000:\n",
    "normal = np.random.normal(M, s, 10000)\n",
    "normal"
   ]
  },
  {
   "cell_type": "code",
   "execution_count": 24,
   "metadata": {},
   "outputs": [
    {
     "data": {
      "image/png": "[encoded data removed]",
      "text/plain": [
       "<matplotlib.figure.Figure at 0x23a75e0dc88>"
      ]
     },
     "metadata": {},
     "output_type": "display_data"
    }
   ],
   "source": [
    "# Compute CDFs:\n",
    "x_temp, y_temp = cdf(df.temperature)\n",
    "x_norm, y_norm = cdf(normal)\n",
    "\n",
    "# Plot both CDFs on the same plot:\n",
    "fig = plt.plot(x_norm, y_norm)\n",
    "fig = plt.plot(x_temp, y_temp, marker='.', linestyle='none')\n",
    "\n",
    "# Label axes and add legend and a title:\n",
    "fig = plt.xlabel('Temperature ($^\\circ$F)', fontsize=14)\n",
    "fig = plt.ylabel('CDF')\n",
    "fig = plt.legend(('Normal Distribution', 'Empirical Data'), loc='center right')\n",
    "fig = plt.title('CDF Confirming the Normal Distribution of Body Temperatures', fontsize=18)\n",
    "\n",
    "\n",
    "# display the plots:\n",
    "plt.show()"
   ]
  },
  {
   "cell_type": "markdown",
   "metadata": {},
   "source": [
    "## Is the sample size large? Are the observations independent?\n",
    "* From the observations above we can see that the observations are independent and thusly large enough to satisfy our analysis and hypothesis formulations and judgements\n",
    "* Both the random sample and original sample show similar distributions that are very close to the normal ideal and thusly satisfy the CLT requirement"
   ]
  },
  {
   "cell_type": "markdown",
   "metadata": {},
   "source": [
    "## Is there a significant difference between males and females in normal temperature?\n",
    "* What test did you use and why?\n",
    "    * Comparison of means between temperatures by gender shows that females have a slightly higher average temperature as well as heart rate (which would also help to support wy their temperature is higher) \n",
    "* Write a story with your conclusion in the context of the original problem\n",
    "    * In 1868 Carl Wunderlich established the mean body temperature as 98.6 degrees F which may have been true at the time as more people were inclined in physical labor thus maintaining a higher heart rate to induce a slightly higher mean. There may be other factors that impact the observed mean that we can not determine from this data such as sample size, gender sample size, women who may have been pregnant, people who may have had ailments or weaknesses and other such discrepancies that may impact the mean. Also since not all bodies are quite the same the mean should have been recorded as a range and separated by gender for accuracy. Per each gender a range of normal temperatures should be recorded as normal body temperature."
   ]
  },
  {
   "cell_type": "code",
   "execution_count": 40,
   "metadata": {
    "scrolled": false
   },
   "outputs": [
    {
     "data": {
      "image/png": "[encoded data removed]",
      "text/plain": [
       "<matplotlib.figure.Figure at 0x23a756377f0>"
      ]
     },
     "metadata": {},
     "output_type": "display_data"
    }
   ],
   "source": [
    "# Create boxplots for temperature by gender:\n",
    "fig = sns.boxplot(x='gender', y='temperature', data=df)\n",
    "\n",
    "# Increase tick mark font size, label axes and add title:\n",
    "plt.tick_params(axis='x', which='major', labelsize=14)\n",
    "fig = plt.xlabel('Gender', fontsize=14)\n",
    "fig = plt.ylabel('Temperature ($^\\circ$F)')\n",
    "plt.title('Distribution of Female & Male Body Temperatures', fontsize=18)\n",
    "\n",
    "# Display the plots:\n",
    "plt.show()"
   ]
  },
  {
   "cell_type": "code",
   "execution_count": 41,
   "metadata": {},
   "outputs": [
    {
     "name": "stdout",
     "output_type": "stream",
     "text": [
      "Female Sample Size: 65 \n",
      "Female Temperature Mean: 98.39384615384613\n",
      "\n",
      "Male Sample Size: 65 \n",
      "Male Temperature Mean: 98.1046153846154\n"
     ]
    }
   ],
   "source": [
    "# Save temperatures filtered by gender:\n",
    "female_temp = df.temperature[df.gender == 'F']\n",
    "male_temp = df.temperature[df.gender == 'M']\n",
    "\n",
    "# Sample Sizes:\n",
    "n_female = len(female_temp)\n",
    "n_male = len(male_temp)\n",
    "\n",
    "# Sample Means:\n",
    "M_female = np.mean(female_temp)\n",
    "M_male = np.mean(male_temp)\n",
    "\n",
    "print('Female Sample Size:', n_female, '\\nFemale Temperature Mean:', M_female)\n",
    "print('\\nMale Sample Size:', n_male, '\\nMale Temperature Mean:', M_male)\n"
   ]
  },
  {
   "cell_type": "code",
   "execution_count": 43,
   "metadata": {
    "collapsed": true
   },
   "outputs": [],
   "source": [
    "# Define permutation functions:\n",
    "\n",
    "def permutation_sample(data1, data2):\n",
    "    \"\"\"Return a permutation sample from two data sets.\"\"\"\n",
    "\n",
    "    # Concatenate the data sets:\n",
    "    data = np.concatenate((data1, data2))\n",
    "\n",
    "    # Permute the concatenated array:\n",
    "    permuted_data = np.random.permutation(data)\n",
    "\n",
    "    # Split the permuted array into two samples:\n",
    "    permutation_sample_1 = permuted_data[:len(data1)]\n",
    "    permutation_sample_2 = permuted_data[len(data1):]\n",
    "\n",
    "    return permutation_sample_1, permutation_sample_2\n",
    "\n",
    "\n",
    "def draw_permutation_replicates(data_1, data_2, func, size=1):\n",
    "    \"\"\"Draw multiple permutation replicates.\"\"\"\n",
    "\n",
    "    # Initialize array of permutation replicates:\n",
    "    permutation_replicates = np.empty(size)\n",
    "\n",
    "    for i in range(size):\n",
    "        # Generate permutation samples:\n",
    "        permutation_sample_1, permutation_sample_2 = permutation_sample(data_1, data_2)\n",
    "\n",
    "        # Compute the test statistic:\n",
    "        permutation_replicates[i] = func(permutation_sample_1, permutation_sample_2)\n",
    "\n",
    "    return permutation_replicates\n",
    "\n",
    "\n",
    "def difference_of_means(data_1, data_2):\n",
    "    \"\"\"Return the difference in means of two arrays.\"\"\"\n",
    "\n",
    "    # The difference of means of data_1, data_2:\n",
    "    return np.mean(data_1) - np.mean(data_2)"
   ]
  },
  {
   "cell_type": "code",
   "execution_count": 44,
   "metadata": {},
   "outputs": [
    {
     "name": "stdout",
     "output_type": "stream",
     "text": [
      "Difference of Means 0.289230769230727\n",
      "p-value = 0.013\n"
     ]
    }
   ],
   "source": [
    "# Seed the random number generator:\n",
    "np.random.seed(15)\n",
    "\n",
    "\n",
    "# Compute difference of means:\n",
    "empirical_difference = difference_of_means(female_temp, male_temp)\n",
    "\n",
    "# Draw 10,000 permutation replicates:\n",
    "permutation_replicates = draw_permutation_replicates(female_temp, male_temp, difference_of_means, size=10000)\n",
    "\n",
    "# Compute fraction of replicates that are greater than the observed difference of means:\n",
    "p = np.sum(permutation_replicates >= empirical_difference) / len(permutation_replicates)\n",
    "\n",
    "# Print the results:\n",
    "print('Difference of Means', empirical_difference)\n",
    "print('p-value =', p)"
   ]
  },
  {
   "cell_type": "markdown",
   "metadata": {},
   "source": [
    "With p-value of 0.013 the null hypothesis can be rejected but the significance is small. "
   ]
  },
  {
   "cell_type": "code",
   "execution_count": 45,
   "metadata": {},
   "outputs": [
    {
     "name": "stdout",
     "output_type": "stream",
     "text": [
      "t-statistic: 2.28543453817\n",
      "p-value: 0.0239318831224\n"
     ]
    }
   ],
   "source": [
    "# Save results of a two sample t-test:\n",
    "t = stats.ttest_ind(female_temp, male_temp)[0]\n",
    "p = stats.ttest_ind(female_temp, male_temp)[1]\n",
    "\n",
    "print('t-statistic:', t)\n",
    "print('p-value:', p)"
   ]
  },
  {
   "cell_type": "code",
   "execution_count": 46,
   "metadata": {},
   "outputs": [
    {
     "name": "stdout",
     "output_type": "stream",
     "text": [
      "-1.99772965363 1.99772965363\n"
     ]
    }
   ],
   "source": [
    "# Print the quantiles of the t-distribution corresponding to\n",
    "# confidence level and degrees of freedom:\n",
    "print((stats.t.ppf(q=0.025, df=65-1)), (stats.t.ppf(q=0.975, df=65-1)))"
   ]
  },
  {
   "cell_type": "markdown",
   "metadata": {},
   "source": [
    "A two-sample t-test returned a t-statistic of 2.29 and p-value of 0.024, so here too, the null hypothesis is rejected. The difference in human body temperatures between females and males, though significant, is not extreme. Women tend to have a slightly higher body temperature."
   ]
  },
  {
   "cell_type": "code",
   "execution_count": 48,
   "metadata": {},
   "outputs": [
    {
     "data": {
      "image/png": "[encoded data removed]",
      "text/plain": [
       "<matplotlib.figure.Figure at 0x23a7572ddd8>"
      ]
     },
     "metadata": {},
     "output_type": "display_data"
    }
   ],
   "source": [
    "# Compute percentiles:\n",
    "percentile = np.array([25,50,75])\n",
    "f_percentiles = np.percentile(df.temperature[df.gender == 'F'], percentile)\n",
    "m_percentiles = np.percentile(df.temperature[df.gender == 'M'], percentile)\n",
    "\n",
    "# Compute ECDFs:\n",
    "fx_temp, fy_temp = cdf(df.temperature[df.gender == 'F'])\n",
    "mx_temp, my_temp = cdf(df.temperature[df.gender == 'M'])\n",
    "\n",
    "# Plot both ECDFs on the same plot:\n",
    "fig = plt.plot(fx_temp, fy_temp, marker='.', linestyle='none')\n",
    "fig = plt.plot(mx_temp, my_temp, marker='.', linestyle='none')\n",
    "\n",
    "# Overlay percentiles on each plot:\n",
    "fig = plt.plot(f_percentiles, percentile/100, marker='X', linestyle='none', color='black')\n",
    "fig = plt.plot(m_percentiles, percentile/100, marker='X', linestyle='none', color='black')\n",
    "\n",
    "# Label axes and add legend and a title:\n",
    "fig = plt.xlabel('Temperature ($^\\circ$F)', fontsize=14)\n",
    "fig = plt.ylabel('ECDF')\n",
    "fig = plt.legend(('Female Body Temperature', 'Male Body Temperature', '25$^{th}$, 50$^{th}$, 75$^{th}$ Percentiles'), loc='center right')\n",
    "fig = plt.title('Distribution of Female and Male Body Temperatures', fontsize=18)\n",
    "\n",
    "# display the plots:\n",
    "plt.show()"
   ]
  },
  {
   "cell_type": "markdown",
   "metadata": {},
   "source": [
    "## Is the true population mean really 98.6 degrees F?\n",
    "* Would you use a one-sample or two-sample test? Why?\n",
    "    * Per the observations the mean is slightly less than 98.6 but also indicative of a range \n",
    "    * Two sample can be used since both female and male are independent groups \n",
    "* In this situation, is it appropriate to use the  t  or  z  statistic?\n",
    "    * Given the population size > 30 both can be used but ideal choice would be z-score\n",
    "    * Population size is large enough both tests are valid \n",
    "* Now try using the other test. How is the result be different? Why?\n",
    "   * Sample size being large enough makes outcome of z-score and t-score similar"
   ]
  },
  {
   "cell_type": "code",
   "execution_count": 32,
   "metadata": {},
   "outputs": [
    {
     "data": {
      "text/plain": [
       "array([ 98.4,  97.9,  97.1,  98.7,  98.2,  98.4,  98.2,  98.8,  96.7,  96.4])"
      ]
     },
     "execution_count": 32,
     "metadata": {},
     "output_type": "execute_result"
    }
   ],
   "source": [
    "# Save results of a one sample t-test:\n",
    "t = stats.ttest_1samp(df.temperature, 98.6)[0]\n",
    "p = stats.ttest_1samp(df.temperature, 98.6)[1]\n",
    "\n",
    "print('t-statistic:', t)\n",
    "print('p-value:', p)"
   ]
  },
  {
   "cell_type": "code",
   "execution_count": 49,
   "metadata": {},
   "outputs": [
    {
     "name": "stdout",
     "output_type": "stream",
     "text": [
      "-3.36754645418 3.36754645418\n"
     ]
    }
   ],
   "source": [
    "# Print the quantiles of the t-distribution corresponding to\n",
    "# confidence level and degrees of freedom:\n",
    "print((stats.t.ppf(q=0.0005, df=n-1)), (stats.t.ppf(q=0.9995, df=n-1)))"
   ]
  },
  {
   "cell_type": "markdown",
   "metadata": {},
   "source": [
    "The t-statistic falls outside the t-distribution corresponding to a 99.9% confidence level and the p-value is certainly below the significance level of 0.01, so the null hypothesis can be rejected."
   ]
  },
  {
   "cell_type": "code",
   "execution_count": 50,
   "metadata": {},
   "outputs": [],
   "source": [
    "# Calculate standard error of the mean:\n",
    "sem = s/np.sqrt(n)"
   ]
  },
  {
   "cell_type": "code",
   "execution_count": 51,
   "metadata": {},
   "outputs": [
    {
     "name": "stdout",
     "output_type": "stream",
     "text": [
      "z-statistic: -5.47592520208\n",
      "p-value: 4.35231516588e-08\n"
     ]
    }
   ],
   "source": [
    "# Calculate and save z-statistic:\n",
    "z = (M - 98.6) / sem\n",
    "\n",
    "# Calculate and save p-value:\n",
    "p = stats.norm.cdf(z) * 2\n",
    "\n",
    "# Print the values for z and p:\n",
    "print('z-statistic:', z)\n",
    "print('p-value:', p)"
   ]
  },
  {
   "cell_type": "markdown",
   "metadata": {},
   "source": [
    "The z-statistic is very close to the t-statistic and the p-value is also very low."
   ]
  },
  {
   "cell_type": "code",
   "execution_count": 52,
   "metadata": {},
   "outputs": [],
   "source": [
    "# Define bootstrap functions:\n",
    "\n",
    "def replicate(data, function):\n",
    "    \"\"\"Return replicate of a resampled data array.\"\"\"\n",
    "    \n",
    "    # Create the resampled array and return the statistic of interest:\n",
    "    return function(np.random.choice(data, size=len(data)))\n",
    "\n",
    "\n",
    "def draw_replicates(data, function, size=1):\n",
    "    \"\"\"Draw bootstrap replicates.\"\"\"\n",
    "\n",
    "    # Initialize array of replicates:\n",
    "    replicates = np.empty(size)\n",
    "\n",
    "    # Generate replicates:\n",
    "    for i in range(size):\n",
    "        replicates[i] = replicate(data, function)\n",
    "\n",
    "    return replicates"
   ]
  },
  {
   "cell_type": "code",
   "execution_count": 53,
   "metadata": {},
   "outputs": [
    {
     "name": "stdout",
     "output_type": "stream",
     "text": [
      "p-value = 0.0\n"
     ]
    }
   ],
   "source": [
    "# Seed the random number generator:\n",
    "np.random.seed(15)\n",
    "\n",
    "\n",
    "# Make an array of translated temperatures:\n",
    "translated_temps = df.temperature - M + 98.6\n",
    "\n",
    "# Draw bootstrap replicates of translated temperatures:\n",
    "translated_replicates = draw_replicates(translated_temps, np.mean, 10000)\n",
    "\n",
    "# Compute fraction of replicates that are less than the observed temperature mean:\n",
    "p = np.sum(translated_replicates <= M) / len(translated_replicates)\n",
    "\n",
    "# Print the p-value:\n",
    "print('p-value =', p)"
   ]
  },
  {
   "cell_type": "markdown",
   "metadata": {},
   "source": [
    "* Negative T-statistic result indicates that the t-score is -0.85 deviations less than the normal distribution curve, which we observed earlier given that our ideal mean was hypothesized at 98.6 degrees F but we observed 98.25 per the sample population\n",
    "* The p-value being less than one indicates that the null hypothesis can be rejected \n",
    "\n",
    "In every test the p-value is significantly less than 0.01, so the null hypothesis is rejected. There is sufficient evidence to warrant rejection of the claim that the true population mean is the conventional normal human body temperature of 98.6°F."
   ]
  },
  {
   "cell_type": "markdown",
   "metadata": {},
   "source": [
    "## At what temperature should we consider someone's temperature to be \"abnormal\"?\n",
    "* Start by computing the margin of error and confidence interval.\n",
    "    * An abnormal temperature would register outside of the confidence interval since it would be outside of the 95% observations temperatures"
   ]
  },
  {
   "cell_type": "code",
   "execution_count": 54,
   "metadata": {},
   "outputs": [
    {
     "data": {
      "text/plain": [
       "3.2905267314919255"
      ]
     },
     "execution_count": 54,
     "metadata": {},
     "output_type": "execute_result"
    }
   ],
   "source": [
    "from scipy.stats import norm\n",
    "\n",
    "# Save the critical value at 99.95% confidence:\n",
    "z_critical = norm.ppf(0.9995)\n",
    "z_critical"
   ]
  },
  {
   "cell_type": "code",
   "execution_count": 55,
   "metadata": {},
   "outputs": [
    {
     "name": "stdout",
     "output_type": "stream",
     "text": [
      "Standard Error of the Mean: 0.0640566146952\n",
      "Margin of Error: 0.210780002983\n"
     ]
    }
   ],
   "source": [
    "print('Standard Error of the Mean:', sem)\n",
    "\n",
    "# Calculate and save the margin of error:\n",
    "moe = z_critical * sem\n",
    "print('Margin of Error:', moe)"
   ]
  },
  {
   "cell_type": "code",
   "execution_count": 56,
   "metadata": {},
   "outputs": [
    {
     "name": "stdout",
     "output_type": "stream",
     "text": [
      "99.9% Confidence Interval: [ 98.03845077  98.46001077]\n"
     ]
    }
   ],
   "source": [
    "# Calculate and save the 99.9% confidence interval:\n",
    "CI = np.array([M - moe, M + moe])\n",
    "print('99.9% Confidence Interval:', CI)"
   ]
  },
  {
   "cell_type": "code",
   "execution_count": 57,
   "metadata": {},
   "outputs": [
    {
     "name": "stdout",
     "output_type": "stream",
     "text": [
      "99.9% Confidence Interval: [ 98.04384577  98.45923154]\n"
     ]
    }
   ],
   "source": [
    "# Seed the random number generator:\n",
    "np.random.seed(15)\n",
    "\n",
    "\n",
    "# Draw bootstrap replicates of temperatures:\n",
    "replicates = draw_replicates(df.temperature, np.mean, 10000)\n",
    "\n",
    "# Compute the 99.9% confidence interval:\n",
    "CI = np.percentile(replicates, [0.05, 99.95])\n",
    "print('99.9% Confidence Interval:', CI)"
   ]
  },
  {
   "cell_type": "markdown",
   "metadata": {},
   "source": [
    "Even at a 99.9% confidence interval, the range of temperatures is only 98.0 - 98.5°F. Statistics in this case seem to fall short of determining the abnormal body temperature.\n",
    "\n",
    "Though the conventional human body temperature was rejected as the true population mean, values outside the confidence interval should not be rejected as plausible normal body temperatures. "
   ]
  },
  {
   "cell_type": "markdown",
   "metadata": {},
   "source": [
    "# Conclusion\n",
    "\n",
    "## This data allows us to conclude that the sample size was sufficient enough to draw the conclusion that the average (or mean) temperature of the sample size is slightly less than the ideal of 98.6 which allows us to understand that there is an allowable variance for normal temperature. We can also deduce from the swarmplot distributions and densities that females in this sample have a slightly higher temperature than males. The highest observed outlier was observed in females and lowest observed outlier was observed in men.\n",
    "\n",
    "## The p value also tells us that the random generated sample and the original sample are independent values. In both the random sample and original sample we can observe a very similar distribution curve which allows us to perceive that the sample is sufficient in size to achieve the necessary observations and deductions. \n",
    "\n",
    "## Overall we can safely assume that there is a range associated to normal temperatures as everyone is not the same, in the observation we can see the range as approximately from 97.8 to 98.8 in this sample representative of the population. We can also observe that our 95% confidence interval reflects a range from 98.12 to 98.37 for the observed population. \n",
    "\n",
    "## We also observed in our calculations that average female heart rates and temperatures were slightly higher than males.\n",
    "\n",
    "## We are able to reject that the average normal temperature is 98.6 as that may be due to the age of the data being 120 years old with many factors impacting the number such as lifestyle, work, health, etc. We can safely assume that the normal human body temperature is more accurate as a range that can be separated by gender if needed. "
   ]
  }
 ],
 "metadata": {
  "kernelspec": {
   "display_name": "Python 3",
   "language": "python",
   "name": "python3"
  },
  "language_info": {
   "codemirror_mode": {
    "name": "ipython",
    "version": 3
   },
   "file_extension": ".py",
   "mimetype": "text/x-python",
   "name": "python",
   "nbconvert_exporter": "python",
   "pygments_lexer": "ipython3",
   "version": "3.6.1"
  }
 },
 "nbformat": 4,
 "nbformat_minor": 1
}
