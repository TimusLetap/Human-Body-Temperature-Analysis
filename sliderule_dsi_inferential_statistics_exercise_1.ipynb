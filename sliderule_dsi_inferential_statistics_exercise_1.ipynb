{
 "cells": [
  {
   "cell_type": "markdown",
   "metadata": {},
   "source": [
    "# What is the True Normal Human Body Temperature? \n",
    "\n",
    "#### Background\n",
    "\n",
    "The mean normal body temperature was held to be 37$^{\\circ}$C or 98.6$^{\\circ}$F for more than 120 years since it was first conceptualized and reported by Carl Wunderlich in a famous 1868 book. But, is this value statistically correct?"
   ]
  },
  {
   "cell_type": "markdown",
   "metadata": {},
   "source": [
    "<div class=\"span5 alert alert-info\">\n",
    "<h3>Exercises</h3>\n",
    "\n",
    "<p>In this exercise, you will analyze a dataset of human body temperatures and employ the concepts of hypothesis testing, confidence intervals, and statistical significance.</p>\n",
    "\n",
    "<p>Answer the following questions <b>in this notebook below and submit to your Github account</b>.</p> \n",
    "\n",
    "<ol>\n",
    "<li>  Is the distribution of body temperatures normal? \n",
    "    <ul>\n",
    "    <li> Although this is not a requirement for CLT to hold (read CLT carefully), it gives us some peace of mind that the population may also be normally distributed if we assume that this sample is representative of the population.\n",
    "    </ul>\n",
    "<li>  Is the sample size large? Are the observations independent?\n",
    "    <ul>\n",
    "    <li> Remember that this is a condition for the CLT, and hence the statistical tests we are using, to apply.\n",
    "    </ul>\n",
    "<li>  Is the true population mean really 98.6 degrees F?\n",
    "    <ul>\n",
    "    <li> Would you use a one-sample or two-sample test? Why?\n",
    "    <li> In this situation, is it appropriate to use the $t$ or $z$ statistic? \n",
    "    <li> Now try using the other test. How is the result be different? Why?\n",
    "    </ul>\n",
    "<li>  At what temperature should we consider someone's temperature to be \"abnormal\"?\n",
    "    <ul>\n",
    "    <li> Start by computing the margin of error and confidence interval.\n",
    "    </ul>\n",
    "<li>  Is there a significant difference between males and females in normal temperature?\n",
    "    <ul>\n",
    "    <li> What test did you use and why?\n",
    "    <li> Write a story with your conclusion in the context of the original problem.\n",
    "    </ul>\n",
    "</ol>\n",
    "\n",
    "You can include written notes in notebook cells using Markdown: \n",
    "   - In the control panel at the top, choose Cell > Cell Type > Markdown\n",
    "   - Markdown syntax: http://nestacms.com/docs/creating-content/markdown-cheat-sheet\n",
    "\n",
    "#### Resources\n",
    "\n",
    "+ Information and data sources: http://www.amstat.org/publications/jse/datasets/normtemp.txt, http://www.amstat.org/publications/jse/jse_data_archive.htm\n",
    "+ Markdown syntax: http://nestacms.com/docs/creating-content/markdown-cheat-sheet\n",
    "\n",
    "****\n",
    "</div>"
   ]
  },
  {
   "cell_type": "code",
   "execution_count": 38,
   "metadata": {},
   "outputs": [],
   "source": [
    "import pandas as pd\n",
    "import numpy as np\n",
    "import matplotlib.pyplot as plt\n",
    "import scipy.stats as stats\n",
    "import pylab as pl\n",
    "import seaborn as sns\n",
    "import math\n",
    "import statsmodels.api as sm\n",
    "sns.set()\n",
    "\n",
    "\n",
    "df = pd.read_csv('human_body_temperature.csv')"
   ]
  },
  {
   "cell_type": "markdown",
   "metadata": {},
   "source": [
    "### Inspect Data for any obvious observations"
   ]
  },
  {
   "cell_type": "code",
   "execution_count": 39,
   "metadata": {},
   "outputs": [
    {
     "data": {
      "text/html": [
       "<div>\n",
       "<style>\n",
       "    .dataframe thead tr:only-child th {\n",
       "        text-align: right;\n",
       "    }\n",
       "\n",
       "    .dataframe thead th {\n",
       "        text-align: left;\n",
       "    }\n",
       "\n",
       "    .dataframe tbody tr th {\n",
       "        vertical-align: top;\n",
       "    }\n",
       "</style>\n",
       "<table border=\"1\" class=\"dataframe\">\n",
       "  <thead>\n",
       "    <tr style=\"text-align: right;\">\n",
       "      <th></th>\n",
       "      <th>temperature</th>\n",
       "      <th>gender</th>\n",
       "      <th>heart_rate</th>\n",
       "    </tr>\n",
       "  </thead>\n",
       "  <tbody>\n",
       "    <tr>\n",
       "      <th>0</th>\n",
       "      <td>99.3</td>\n",
       "      <td>F</td>\n",
       "      <td>68.0</td>\n",
       "    </tr>\n",
       "    <tr>\n",
       "      <th>1</th>\n",
       "      <td>98.4</td>\n",
       "      <td>F</td>\n",
       "      <td>81.0</td>\n",
       "    </tr>\n",
       "    <tr>\n",
       "      <th>2</th>\n",
       "      <td>97.8</td>\n",
       "      <td>M</td>\n",
       "      <td>73.0</td>\n",
       "    </tr>\n",
       "    <tr>\n",
       "      <th>3</th>\n",
       "      <td>99.2</td>\n",
       "      <td>F</td>\n",
       "      <td>66.0</td>\n",
       "    </tr>\n",
       "    <tr>\n",
       "      <th>4</th>\n",
       "      <td>98.0</td>\n",
       "      <td>F</td>\n",
       "      <td>73.0</td>\n",
       "    </tr>\n",
       "  </tbody>\n",
       "</table>\n",
       "</div>"
      ],
      "text/plain": [
       "   temperature gender  heart_rate\n",
       "0         99.3      F        68.0\n",
       "1         98.4      F        81.0\n",
       "2         97.8      M        73.0\n",
       "3         99.2      F        66.0\n",
       "4         98.0      F        73.0"
      ]
     },
     "execution_count": 39,
     "metadata": {},
     "output_type": "execute_result"
    }
   ],
   "source": [
    "df.head()"
   ]
  },
  {
   "cell_type": "code",
   "execution_count": 40,
   "metadata": {},
   "outputs": [
    {
     "data": {
      "text/html": [
       "<div>\n",
       "<style>\n",
       "    .dataframe thead tr:only-child th {\n",
       "        text-align: right;\n",
       "    }\n",
       "\n",
       "    .dataframe thead th {\n",
       "        text-align: left;\n",
       "    }\n",
       "\n",
       "    .dataframe tbody tr th {\n",
       "        vertical-align: top;\n",
       "    }\n",
       "</style>\n",
       "<table border=\"1\" class=\"dataframe\">\n",
       "  <thead>\n",
       "    <tr style=\"text-align: right;\">\n",
       "      <th></th>\n",
       "      <th>temperature</th>\n",
       "      <th>heart_rate</th>\n",
       "    </tr>\n",
       "  </thead>\n",
       "  <tbody>\n",
       "    <tr>\n",
       "      <th>count</th>\n",
       "      <td>130.000000</td>\n",
       "      <td>130.000000</td>\n",
       "    </tr>\n",
       "    <tr>\n",
       "      <th>mean</th>\n",
       "      <td>98.249231</td>\n",
       "      <td>73.761538</td>\n",
       "    </tr>\n",
       "    <tr>\n",
       "      <th>std</th>\n",
       "      <td>0.733183</td>\n",
       "      <td>7.062077</td>\n",
       "    </tr>\n",
       "    <tr>\n",
       "      <th>min</th>\n",
       "      <td>96.300000</td>\n",
       "      <td>57.000000</td>\n",
       "    </tr>\n",
       "    <tr>\n",
       "      <th>25%</th>\n",
       "      <td>97.800000</td>\n",
       "      <td>69.000000</td>\n",
       "    </tr>\n",
       "    <tr>\n",
       "      <th>50%</th>\n",
       "      <td>98.300000</td>\n",
       "      <td>74.000000</td>\n",
       "    </tr>\n",
       "    <tr>\n",
       "      <th>75%</th>\n",
       "      <td>98.700000</td>\n",
       "      <td>79.000000</td>\n",
       "    </tr>\n",
       "    <tr>\n",
       "      <th>max</th>\n",
       "      <td>100.800000</td>\n",
       "      <td>89.000000</td>\n",
       "    </tr>\n",
       "  </tbody>\n",
       "</table>\n",
       "</div>"
      ],
      "text/plain": [
       "       temperature  heart_rate\n",
       "count   130.000000  130.000000\n",
       "mean     98.249231   73.761538\n",
       "std       0.733183    7.062077\n",
       "min      96.300000   57.000000\n",
       "25%      97.800000   69.000000\n",
       "50%      98.300000   74.000000\n",
       "75%      98.700000   79.000000\n",
       "max     100.800000   89.000000"
      ]
     },
     "execution_count": 40,
     "metadata": {},
     "output_type": "execute_result"
    }
   ],
   "source": [
    "df.describe()"
   ]
  },
  {
   "cell_type": "code",
   "execution_count": 41,
   "metadata": {},
   "outputs": [
    {
     "data": {
      "text/plain": [
       "count     130\n",
       "unique      2\n",
       "top         F\n",
       "freq       65\n",
       "Name: gender, dtype: object"
      ]
     },
     "execution_count": 41,
     "metadata": {},
     "output_type": "execute_result"
    }
   ],
   "source": [
    "df['gender'].describe()"
   ]
  },
  {
   "cell_type": "markdown",
   "metadata": {},
   "source": [
    "## Is the sample size large? Are the observations independent?\n",
    "* Remember that this is a condition for the CLT, and hence the statistical tests we are using, to apply.\n",
    "    * The mean of the observed body temperature would provide for a normal curve as we can see in te distribution plot allowing us to ascertain that the observations are indeed independent \n",
    "    * Sample size is 130 with 65 per each gender"
   ]
  },
  {
   "cell_type": "code",
   "execution_count": 43,
   "metadata": {
    "collapsed": true
   },
   "outputs": [],
   "source": [
    "temperature = df['temperature']"
   ]
  },
  {
   "cell_type": "code",
   "execution_count": 44,
   "metadata": {},
   "outputs": [
    {
     "name": "stdout",
     "output_type": "stream",
     "text": [
      "98.24923076923078\n",
      "98.3108\n"
     ]
    },
    {
     "data": {
      "text/plain": [
       "-0.061569230769208616"
      ]
     },
     "execution_count": 44,
     "metadata": {},
     "output_type": "execute_result"
    }
   ],
   "source": [
    "# Verify sample populaiton mean\n",
    "\n",
    "population_temperature_mean= temperature.mean()\n",
    "print (population_temperature_mean)\n",
    "\n",
    "# Generate random sample to compare with sample\n",
    "\n",
    "np.random.seed(42)\n",
    "sample_temperature = np.random.choice(temperature, 500) \n",
    "print ((sample_temperature.mean()))\n",
    "\n",
    "population_temperature_mean - sample_temperature.mean()"
   ]
  },
  {
   "cell_type": "markdown",
   "metadata": {},
   "source": [
    "*  We can see that the difference of means between our random sample and original sample is approx 0.06 which is not significant enough to not consider our sample as inaccurate in terms of representing the population"
   ]
  },
  {
   "cell_type": "code",
   "execution_count": 45,
   "metadata": {},
   "outputs": [
    {
     "data": {
      "image/png": "[encoded data removed]",
      "text/plain": [
       "<matplotlib.figure.Figure at 0x26dae23ef28>"
      ]
     },
     "metadata": {},
     "output_type": "display_data"
    }
   ],
   "source": [
    "_ = sns.swarmplot(x= temperature, data=df)\n",
    "_= plt.xlabel('Temperature')\n",
    "plt.show()"
   ]
  },
  {
   "cell_type": "markdown",
   "metadata": {},
   "source": [
    "* Swarmplot observations show a good density between 98 and 99 degrees\n",
    "* There are some observable outliers which should be noted"
   ]
  },
  {
   "cell_type": "markdown",
   "metadata": {},
   "source": [
    "* The margin of error being low tells us that our "
   ]
  },
  {
   "cell_type": "code",
   "execution_count": 58,
   "metadata": {},
   "outputs": [
    {
     "data": {
      "image/png": "[encoded data removed]",
      "text/plain": [
       "<matplotlib.figure.Figure at 0x26daf0a0550>"
      ]
     },
     "metadata": {},
     "output_type": "display_data"
    }
   ],
   "source": [
    "_ = sns.swarmplot(x= temperature, y='gender', data=df)\n",
    "_= plt.xlabel('Temperature')\n",
    "_= plt.ylabel('Gender')\n",
    "plt.show()"
   ]
  },
  {
   "cell_type": "markdown",
   "metadata": {},
   "source": [
    "* Investigaitng the outliers we can see that there is a difference between gender\n",
    "* Observing the temperature by gender we can see that males have a slightly lower temperature than the females in the sample \n",
    "* The very high temperature observations seem to be from the females and the low outliers are generated by both male and females observations "
   ]
  },
  {
   "cell_type": "code",
   "execution_count": 57,
   "metadata": {},
   "outputs": [
    {
     "data": {
      "image/png": "[encoded data removed]",
      "text/plain": [
       "<matplotlib.figure.Figure at 0x26daf0a9978>"
      ]
     },
     "metadata": {},
     "output_type": "display_data"
    }
   ],
   "source": [
    "# Linear regression observation against heart rate\n",
    "\n",
    "_= sns.lmplot(x= 'temperature', y='heart_rate', data=df)\n",
    "_= plt.xlabel('Temperature')\n",
    "_= plt.ylabel('Heart Rate')\n",
    "plt.show()"
   ]
  },
  {
   "cell_type": "markdown",
   "metadata": {},
   "source": [
    "*  The correlation of temperature to heart rate shows us that there is no uniformity of heart rate and temperature\n",
    "*  Using the generated correlation line to assign an observation we can see that as heart rate increases temperature rises\n",
    "*  We can also observe that the heart rate is not an ideal indicator of temperature"
   ]
  },
  {
   "cell_type": "code",
   "execution_count": 56,
   "metadata": {},
   "outputs": [
    {
     "data": {
      "image/png": "[encoded data removed]",
      "text/plain": [
       "<matplotlib.figure.Figure at 0x26dae2ae208>"
      ]
     },
     "metadata": {},
     "output_type": "display_data"
    },
    {
     "data": {
      "image/png": "[encoded data removed]",
      "text/plain": [
       "<matplotlib.figure.Figure at 0x26dae2aed68>"
      ]
     },
     "metadata": {},
     "output_type": "display_data"
    }
   ],
   "source": [
    "# Quantile plot\n",
    "_= stats.probplot(temperature, dist=\"norm\", plot=pl)\n",
    "_= plt.title('Observed Sample')\n",
    "plt.show()\n",
    "\n",
    "_= stats.probplot(sample_temperature, dist=\"norm\", plot=pl)\n",
    "_= plt.title('Sample Temperature')\n",
    "plt.show()"
   ]
  },
  {
   "cell_type": "markdown",
   "metadata": {},
   "source": [
    "* From quantile plot we can see that both sample population and observed populaitons display the strong uniform distribution as they both primarily correlate with normal distribution line\n",
    "* Few outliers are observed beyond 100 but otherwise there is a nice uniform distribution which makes sense given that the temperatures of the samples are within a specific range overall"
   ]
  },
  {
   "cell_type": "code",
   "execution_count": 53,
   "metadata": {},
   "outputs": [
    {
     "data": {
      "image/png": "[encoded data removed]",
      "text/plain": [
       "<matplotlib.figure.Figure at 0x26dae6cc7b8>"
      ]
     },
     "metadata": {},
     "output_type": "display_data"
    }
   ],
   "source": [
    "np.random.seed(42)\n",
    "\n",
    "point_estimates = []         \n",
    "\n",
    "for x in range(200):         \n",
    "    sample = np.random.choice(a= temperature, size=500)\n",
    "    point_estimates.append(sample.mean())\n",
    "    \n",
    "_= pd.DataFrame(point_estimates).plot(kind=\"density\") \n",
    "_= plt.xlabel('Temperature')\n",
    "plt.show()"
   ]
  },
  {
   "cell_type": "code",
   "execution_count": 54,
   "metadata": {
    "collapsed": true
   },
   "outputs": [],
   "source": [
    "n_data= len(temperature)\n",
    "n_bins= np.sqrt(n_data)\n",
    "n_bins= int(n_bins)"
   ]
  },
  {
   "cell_type": "code",
   "execution_count": 55,
   "metadata": {
    "scrolled": true
   },
   "outputs": [
    {
     "data": {
      "image/png": "[encoded data removed]",
      "text/plain": [
       "<matplotlib.figure.Figure at 0x26dae721b38>"
      ]
     },
     "metadata": {},
     "output_type": "display_data"
    }
   ],
   "source": [
    "_= plt.hist(temperature, bins= n_bins)\n",
    "_= plt.xlabel('Temperature')\n",
    "_= plt.ylabel('Count')\n",
    "plt.show()"
   ]
  },
  {
   "cell_type": "code",
   "execution_count": 50,
   "metadata": {
    "scrolled": false
   },
   "outputs": [
    {
     "data": {
      "image/png": "[encoded data removed]",
      "text/plain": [
       "<matplotlib.figure.Figure at 0x26dae644a90>"
      ]
     },
     "metadata": {},
     "output_type": "display_data"
    }
   ],
   "source": [
    "_= temperature.plot(kind='hist', title= 'Body Temperature Distribution')\n",
    "_= temperature.plot(kind= 'kde')\n",
    "_= plt.xlabel('Temperature')\n",
    "plt.show()      "
   ]
  },
  {
   "cell_type": "markdown",
   "metadata": {},
   "source": [
    "## Is the distribution of body temperatures normal?\n",
    "* Although this is not a requirement for CLT to hold (read CLT carefully), it gives us some peace of mind that the population may also be normally distributed if we assume that this sample is representative of the population.\n",
    "    * CLT would apply to this dataset as the mean temperatures of the population will follow a normal distribution as they are within a predictable range of temperatures\n",
    "    * This sample is indeed representative of the populaiton because the observation are independent\n",
    "    * We can see that the distribution of the temperatures of the population is quite normal and with very minor curve abiguities\n",
    "    * We can also see that the curve of the random sample also reflects approximately identical representations\n",
    "    * We can also observe the ideal normal curve over the kde curve and see that there is little to no difference meaning that the popultation reflects a normal distribution"
   ]
  },
  {
   "cell_type": "code",
   "execution_count": null,
   "metadata": {},
   "outputs": [],
   "source": [
    "temp = np.random.gamma(98.3108, size=500)\n",
    "_= sns.distplot(temp, kde=True, fit=stats.gamma)\n",
    "_= plt.xlabel('Temperature')\n",
    "_= plt.ylabel('Density')\n",
    "_= plt.title('Random Sample')\n",
    "_= plt.legend(('Normal', 'Observed'))\n",
    "plt.show()\n",
    "\n",
    "\n",
    "_= sns.distplot(temperature, kde=True, fit=stats.gamma)\n",
    "_= plt.xlabel('Temperature')\n",
    "_= plt.ylabel('Density')\n",
    "_= plt.title('Observed Population')\n",
    "_= plt.legend(('Normal', 'Observed'))\n",
    "plt.show()"
   ]
  },
  {
   "cell_type": "markdown",
   "metadata": {},
   "source": [
    "## Is the sample size large? Are the observations independent?\n",
    "* From the observations above we can see that the observations are independent and thusly large enough to satisfy our analysis and hypothesis formulations and judgements\n",
    "* Both the random sample and original sample show similar distributions that are very close to the normal ideal and thusly satisfy the CLT requirement"
   ]
  },
  {
   "cell_type": "code",
   "execution_count": null,
   "metadata": {
    "collapsed": true
   },
   "outputs": [],
   "source": [
    "def ecdf(df):\n",
    "    \n",
    "    # Number of data points: n\n",
    "    n = len(df)\n",
    "\n",
    "    # x-data for the ECDF: x\n",
    "    x = np.sort(df)\n",
    "\n",
    "    # y-data for the ECDF: y\n",
    "    y = np.arange(1, n+1) / n\n",
    "\n",
    "    return x, y\n"
   ]
  },
  {
   "cell_type": "code",
   "execution_count": null,
   "metadata": {},
   "outputs": [],
   "source": [
    "x_vers, y_vers = ecdf(temperature)\n",
    "\n",
    "# Generate plot\n",
    "_ = plt.plot(x_vers, y_vers, marker='.', linestyle='none')\n",
    "\n",
    "# Make the margins nice\n",
    "plt.margins(0.02)\n",
    "\n",
    "# Label the axes\n",
    "_ = plt.xlabel('Temperature')\n",
    "_ = plt.ylabel('ECDF')\n",
    "\n",
    "# Display the plot\n",
    "plt.show()"
   ]
  },
  {
   "cell_type": "markdown",
   "metadata": {},
   "source": [
    "## Is there a significant difference between males and females in normal temperature?\n",
    "* What test did you use and why?\n",
    "    * Comparison of means between temperatures by gender shows that females have a slightly higher average temperature as well as heart rate (which would also help to support wy their temperature is higher) \n",
    "* Write a story with your conclusion in the context of the original problem\n",
    "    * In 1868 Carl Wunderlich established the mean body temperature as 98.6 degrees F which may have been true at the time as more people were inclined in physical labor thus maintaining a higher heart rate to induce a slightly higher mean. There may be other factors that impact the observed mean that we can not determine from this data such as sample size, gender sample size, women who may have been pregnant, people who may have had ailments or weaknesses and other such discrepancies that may impact the mean. Also since not all bodies are quite the same the mean should have been recorded as a range and separated by gender for accuracy. Per each gender a range of normal temperatures should be recorded as normal body temperature."
   ]
  },
  {
   "cell_type": "code",
   "execution_count": 46,
   "metadata": {
    "scrolled": false
   },
   "outputs": [
    {
     "name": "stdout",
     "output_type": "stream",
     "text": [
      "temperature    98.393846\n",
      "heart_rate     74.153846\n",
      "dtype: float64\n",
      "temperature    98.104615\n",
      "heart_rate     73.369231\n",
      "dtype: float64\n",
      "65\n",
      "65\n"
     ]
    }
   ],
   "source": [
    "# Assign variable for each gender from dataset \n",
    "female = df[df['gender'] == 'F']\n",
    "male = df[df['gender'] == 'M']\n",
    "\n",
    "# Mean\n",
    "print (np.mean(female))\n",
    "print (np.mean(male))\n",
    "\n",
    "# Sample size by race\n",
    "l_f= len(female)\n",
    "l_m= len(male)\n",
    "print(l_f)\n",
    "print(l_m)"
   ]
  },
  {
   "cell_type": "code",
   "execution_count": 80,
   "metadata": {},
   "outputs": [
    {
     "name": "stdout",
     "output_type": "stream",
     "text": [
      "98.2492305\n"
     ]
    }
   ],
   "source": [
    "# Verify Mean between gender\n",
    "print((98.393846+98.104615)/2)\n"
   ]
  },
  {
   "cell_type": "markdown",
   "metadata": {},
   "source": [
    "## Is the true population mean really 98.6 degrees F?\n",
    "* Would you use a one-sample or two-sample test? Why?\n",
    "    * Per the observations the mean is slightly less than 98.6 but also indicative of a range \n",
    "    * Two sample can be used since both female and male are independent groups \n",
    "* In this situation, is it appropriate to use the  t  or  z  statistic?\n",
    "    * Given the population size > 30 both can be used but ideal choice would be z-score\n",
    "    * Population size is large enough both tests are valid \n",
    "* Now try using the other test. How is the result be different? Why?\n",
    "    * Sample size being large enough makes outcome of z-score and t-score similar"
   ]
  },
  {
   "cell_type": "code",
   "execution_count": 70,
   "metadata": {},
   "outputs": [
    {
     "name": "stdout",
     "output_type": "stream",
     "text": [
      "temperature     0.544270\n",
      "heart_rate     64.684024\n",
      "dtype: float64\n",
      "temperature     0.480748\n",
      "heart_rate     33.986746\n",
      "dtype: float64\n",
      "temperature    0.289231\n",
      "heart_rate     0.784615\n",
      "dtype: float64\n",
      "temperature    0.737746\n",
      "heart_rate     8.042638\n",
      "dtype: float64\n",
      "temperature    0.693360\n",
      "heart_rate     5.829815\n",
      "dtype: float64\n",
      "1.99772965363\n",
      "0.250868298265\n"
     ]
    },
    {
     "data": {
      "text/plain": [
       "[temperature    0.038362\n",
       " heart_rate     0.533747\n",
       " dtype: float64, temperature    0.540099\n",
       " heart_rate     1.035484\n",
       " dtype: float64]"
      ]
     },
     "execution_count": 70,
     "metadata": {},
     "output_type": "execute_result"
    }
   ],
   "source": [
    "# Variance\n",
    "var_f= np.var(female)\n",
    "print (var_f)\n",
    "var_m= np.var(male)\n",
    "print (var_m)\n",
    "\n",
    "# Difference of means\n",
    "mu_diff= (np.mean(female) - np.mean(male))\n",
    "print (mu_diff)\n",
    "\n",
    "#Standard deviation\n",
    "std_f= np.std(female)\n",
    "print(std_f)\n",
    "std_m= np.std(male)\n",
    "print(std_m)\n",
    "\n",
    "# Difference of Standard Deviations of sampling distributions\n",
    "std_diff= math.sqrt((0.544270/l_f)+(0.480748/l_m))\n",
    "\n",
    "# Critical t_value for 95%\n",
    "\n",
    "t_crit= stats.t.ppf(0.975, l_f-1)\n",
    "print(t_crit)\n",
    "\n",
    "# Margin of Error\n",
    "d= t_crit*std_diff\n",
    "print(d)\n",
    "\n",
    "# 95% confidence interval\n",
    "CI= [mu_diff-d, mu_diff+d]\n",
    "CI"
   ]
  },
  {
   "cell_type": "code",
   "execution_count": 72,
   "metadata": {},
   "outputs": [
    {
     "name": "stdout",
     "output_type": "stream",
     "text": [
      "98.24923076923078\n",
      "0.5334224852071\n",
      "0.7303577789050377\n"
     ]
    }
   ],
   "source": [
    "# Mean\n",
    "print(np.mean(temperature))\n",
    "\n",
    "# Variance\n",
    "print(np.var(temperature))\n",
    "\n",
    "#Standard deviation\n",
    "print(np.std(temperature))"
   ]
  },
  {
   "cell_type": "code",
   "execution_count": 73,
   "metadata": {},
   "outputs": [
    {
     "data": {
      "text/plain": [
       "Ttest_indResult(statistic=-0.84838235391142391, pvalue=0.39721314673026242)"
      ]
     },
     "execution_count": 73,
     "metadata": {},
     "output_type": "execute_result"
    }
   ],
   "source": [
    "# T-statistic\n",
    "\n",
    "t_test= stats.ttest_ind(temperature, sample_temperature, equal_var=False)\n",
    "t_test"
   ]
  },
  {
   "cell_type": "markdown",
   "metadata": {},
   "source": [
    "* Negative T-statistic result indicates that the t-score is -0.85 deviations less than the normal distribution curve, which we observed earlier given that our ideal mean was hypothesized at 98.6 degrees F but we observed 98.25 per the sample population\n",
    "* The p-value being less than one indicates that the null hypothesis can be rejected "
   ]
  },
  {
   "cell_type": "code",
   "execution_count": 74,
   "metadata": {},
   "outputs": [
    {
     "name": "stdout",
     "output_type": "stream",
     "text": [
      "0.48027041116080765\n",
      "0.384840182731\n"
     ]
    }
   ],
   "source": [
    "# Z-score\n",
    "\n",
    "z_score= (98.6 - np.mean(temperature))/(np.std(temperature))\n",
    "print(z_score)\n",
    "\n",
    "sample_z_score= (98.6 - np.mean(sample_temperature))/(np.std(sample_temperature))\n",
    "print(sample_z_score)"
   ]
  },
  {
   "cell_type": "markdown",
   "metadata": {},
   "source": [
    "* The z-score being 0.48 shows that the values are very slightly above the normal distribution curve yet average\n",
    "* The z-score of random sample is also very close to average\n",
    "* These two z-scores allow us to ascertain that the observed and random samples are average and reflect a normal deviation from normal distribution"
   ]
  },
  {
   "cell_type": "code",
   "execution_count": 75,
   "metadata": {},
   "outputs": [
    {
     "data": {
      "text/plain": [
       "(98.123682111456645, 98.37477942700491)"
      ]
     },
     "execution_count": 75,
     "metadata": {},
     "output_type": "execute_result"
    }
   ],
   "source": [
    "mean, sigma = np.mean(temperature), np.std(temperature)\n",
    "conf_int_a = stats.norm.interval(0.95, loc=mean, scale=sigma)\n",
    "conf_int_b = stats.norm.interval(0.95, loc=mean, scale=sigma / np.sqrt(len(temperature)))\n",
    "\n",
    "conf_int_a\n",
    "conf_int_b\n"
   ]
  },
  {
   "cell_type": "markdown",
   "metadata": {},
   "source": [
    "## At what temperature should we consider someone's temperature to be \"abnormal\"?\n",
    "* Start by computing the margin of error and confidence interval.\n",
    "    * An abnormal temperature would register outside of the confidence interval since it would be outside of the 95% observations temperatures"
   ]
  },
  {
   "cell_type": "markdown",
   "metadata": {},
   "source": [
    "* It is observed with 95% confidence that the mean normal temperature would be between 98.12 and 98.37 degrees F of observed population \n",
    "* From the observed confidence inerval of the observed populaiton we can determine that 95% of the population would have very slightly less than 98.6 as their normal body temp "
   ]
  },
  {
   "cell_type": "markdown",
   "metadata": {},
   "source": [
    "# Conclusion\n",
    "\n",
    "## This data allows us to conclude that the sample size was sufficient enough to draw the conclusion that the average (or mean) temperature of the sample size is slightly less than the ideal of 98.6 which allows us to understand that there is an allowable variance for normal temperature. We can also deduce from the swarmplot distributions and densities that females in this sample have a slightly higher temperature than males. The highest observed outlier was observed in females and lowest observed outlier was observed in men.\n",
    "\n",
    "## The p value also tells us that the random generated sample and the original sample are independent values. In both the random sample and original sample we can observe a very similar distribution curve which allows us to perceive that the sample is sufficient in size to achieve the necessary observations and deductions. \n",
    "\n",
    "## Overall we can safely assume that there is a range associated to normal temperatures as everyone is not the same, in the observation we can see the range as approximately from 97.8 to 98.8 in this sample representative of the population. We can also observe that our 95% confidence interval reflects a range from 98.12 to 98.37 for the observed population. \n",
    "\n",
    "## We also observed in our calculations that average female heart rates and temperatures were slightly higher than males.\n",
    "\n",
    "## We are able to reject that the average normal temperature is 98.6 as that may be due to the age of the data being 120 years old with many factors impacting the number such as lifestyle, work, health, etc. We can safely assume that the normal human body temperature is more accurate as a range that can be separated by gender if needed. "
   ]
  }
 ],
 "metadata": {
  "kernelspec": {
   "display_name": "Python 3",
   "language": "python",
   "name": "python3"
  },
  "language_info": {
   "codemirror_mode": {
    "name": "ipython",
    "version": 3
   },
   "file_extension": ".py",
   "mimetype": "text/x-python",
   "name": "python",
   "nbconvert_exporter": "python",
   "pygments_lexer": "ipython3",
   "version": "3.6.1"
  }
 },
 "nbformat": 4,
 "nbformat_minor": 1
}
